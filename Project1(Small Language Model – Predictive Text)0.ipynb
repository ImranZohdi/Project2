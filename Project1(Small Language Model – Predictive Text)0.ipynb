{
  "nbformat": 4,
  "nbformat_minor": 0,
  "metadata": {
    "colab": {
      "provenance": [],
      "authorship_tag": "ABX9TyMmoYGlsbOgqbGrrUDcXzGS",
      "include_colab_link": true
    },
    "kernelspec": {
      "name": "python3",
      "display_name": "Python 3"
    },
    "language_info": {
      "name": "python"
    }
  },
  "cells": [
    {
      "cell_type": "markdown",
      "metadata": {
        "id": "view-in-github",
        "colab_type": "text"
      },
      "source": [
        "<a href=\"https://colab.research.google.com/github/ImranZohdi/Project2/blob/main/Project1(Small%20Language%20Model%20%E2%80%93%20Predictive%20Text)0.ipynb\" target=\"_parent\"><img src=\"https://colab.research.google.com/assets/colab-badge.svg\" alt=\"Open In Colab\"/></a>"
      ]
    },
    {
      "cell_type": "code",
      "execution_count": null,
      "metadata": {
        "id": "-juJFLIKymhu"
      },
      "outputs": [],
      "source": [
        "import re\n",
        "import random\n",
        "from collections import defaultdict\n",
        "\n",
        "class PredictiveText:\n",
        "    def __init__(self):\n",
        "        self.word_pairs = defaultdict(list)\n",
        "\n",
        "    def train(self, text):\n",
        "        words = re.findall(r'\\b\\w+\\b', text.lower())\n",
        "        for i in range(2, len(words)):\n",
        "            key = (words[i-2], words[i-1])\n",
        "            self.word_pairs[key].append(words[i])\n",
        "\n",
        "    def predict_next_word(self, word1, word2):\n",
        "        key = (word1.lower(), word2.lower())\n",
        "        possible_words = self.word_pairs.get(key, [])\n",
        "        if possible_words:\n",
        "            return random.choice(possible_words)\n",
        "        else:\n",
        "            return None\n",
        "#needed AI help for \"def generate_text\"\n",
        "    def generate_text(self, starting_words, num_words):\n",
        "        output = list(starting_words)\n",
        "        for _ in range(num_words - 2):\n",
        "            next_word = self.predict_next_word(output[-2], output[-1])\n",
        "            if next_word:\n",
        "                output.append(next_word)\n",
        "            else:\n",
        "                break\n",
        "        return ' '.join(output)\n",
        "\n",
        "# Test cases\n",
        "def test_predictive_text():\n",
        "    text = \"This is a test text for predictive text system. This system should predict the next word based on the previous two words.\"\n",
        "    predictive_text = PredictiveText()\n",
        "    predictive_text.train(text)\n",
        "    assert predictive_text.predict_next_word(\"a\", \"test\") == \"text\"\n",
        "    assert predictive_text.predict_next_word(\"predictive\", \"text\") == \"system\"\n",
        "\n",
        "def test_generate_text():\n",
        "    text = \"This is a test text for predictive text system. This system should predict the next word based on the previous two words.\"\n",
        "    predictive_text = PredictiveText()\n",
        "    predictive_text.train(text)\n",
        "    generated_text = predictive_text.generate_text((\"predictive\", \"text\"), 10)\n",
        "    assert len(generated_text.split()) == 10\n",
        "\n",
        "test_predictive_text()\n",
        "test_generate_text()\n"
      ]
    },
    {
      "cell_type": "markdown",
      "source": [
        "is this an AI model? In what ways is it similar or dissimilar from AI models?\n",
        "   - This is not an AI model. It's a simple statistical language model based on the probability of word sequences.\n",
        "     Unlike AI models, it doesn't involve complex learning algorithms or deep understanding of language semantics.\n",
        "\n",
        "2. Could this model be useful for any real-world applications?\n",
        "   - Yes, this model could be useful for applications such as autocomplete in text editors or messaging apps,\n",
        "     predictive typing on mobile devices, and suggesting search queries.\n",
        "\n",
        "3. What would be the next improvements or enhancements you would make to this model?\n",
        "   - Enhance the training process by considering more context (e.g., using trigrams or higher-order n-grams).\n",
        "   - Implement a more sophisticated text generation algorithm, such as beam search or sampling based on probability distributions.\n",
        "   - Fine-tune the model parameters based on evaluation metrics like perplexity.\n",
        "   - Explore techniques to handle out-of-vocabulary words and improve the handling of punctuation and sentence boundaries.\n",
        "\n",
        "   the code provides a basic implementation of a predictive text system, showcasing its training, prediction, generation capabilities, along with testing and explanations of its functionalities and potential applications."
      ],
      "metadata": {
        "id": "SWk4Kb0O0Owm"
      }
    }
  ]
}
